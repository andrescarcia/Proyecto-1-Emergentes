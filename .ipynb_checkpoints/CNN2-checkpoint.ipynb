{
 "cells": [
  {
   "cell_type": "code",
   "execution_count": null,
   "id": "740d041d",
   "metadata": {},
   "outputs": [],
   "source": [
    "import numpy as np\n",
    "import pandas as pd\n",
    "import matplotlib.pyplot as plt\n",
    "import seaborn as sns\n",
    "import tensorflow as tf\n",
    "from tensorflow.keras.models import Sequential\n",
    "from tensorflow.keras.layers import Conv2D, MaxPooling2D, Flatten, Dense, Dropout, BatchNormalization, Input\n",
    "from tensorflow.keras.optimizers import Adam\n",
    "from tensorflow.keras.preprocessing.image import ImageDataGenerator\n",
    "from sklearn.model_selection import train_test_split"
   ]
  },
  {
   "cell_type": "code",
   "execution_count": null,
   "id": "8ad244ab",
   "metadata": {},
   "outputs": [],
   "source": [
    "# Cargar el dataset de Fashion MNIST\n",
    "(X_train, y_train), (X_test, y_test) = tf.keras.datasets.fashion_mnist.load_data()\n",
    "\n",
    "# Normalización de los datos\n",
    "X_train = X_train / 255.0\n",
    "X_test = X_test / 255.0\n",
    "\n",
    "# Redimensionar los datos para que se ajusten a la entrada de la CNN\n",
    "X_train = X_train.reshape(-1, 28, 28, 1)\n",
    "X_test = X_test.reshape(-1, 28, 28, 1)\n",
    "\n",
    "# Dividir el conjunto de entrenamiento en entrenamiento y validación\n",
    "X_train, X_val, y_train, y_val = train_test_split(X_train, y_train, test_size=0.2, random_state=42)"
   ]
  },
  {
   "cell_type": "code",
   "execution_count": null,
   "id": "456dc22e",
   "metadata": {},
   "outputs": [],
   "source": [
    "model_1 = Sequential([\n",
    "    Input(shape=(28, 28, 1)),\n",
    "    Conv2D(32, (3, 3), activation='relu'),\n",
    "    MaxPooling2D((2, 2)),\n",
    "    Flatten(),\n",
    "    Dense(128, activation='relu'),\n",
    "    Dense(10, activation='softmax')\n",
    "])\n",
    "\n",
    "model_1.compile(optimizer='adam', loss='sparse_categorical_crossentropy', metrics=['accuracy'])"
   ]
  },
  {
   "cell_type": "code",
   "execution_count": null,
   "id": "9c67ee68",
   "metadata": {},
   "outputs": [],
   "source": [
    "model_2 = Sequential([\n",
    "    Input(shape=(28, 28, 1)),\n",
    "    Conv2D(32, (3, 3), activation='relu'),\n",
    "    BatchNormalization(),\n",
    "    MaxPooling2D((2, 2)),\n",
    "    Dropout(0.25),\n",
    "    Conv2D(64, (3, 3), activation='relu'),\n",
    "    BatchNormalization(),\n",
    "    MaxPooling2D((2, 2)),\n",
    "    Dropout(0.25),\n",
    "    Flatten(),\n",
    "    Dense(128, activation='relu'),\n",
    "    Dropout(0.5),\n",
    "    Dense(10, activation='softmax')\n",
    "])\n",
    "\n",
    "model_2.compile(optimizer='adam', loss='sparse_categorical_crossentropy', metrics=['accuracy'])"
   ]
  },
  {
   "cell_type": "code",
   "execution_count": null,
   "id": "d3265d07",
   "metadata": {},
   "outputs": [],
   "source": [
    "history_1 = model_1.fit(X_train, y_train, epochs=10, validation_data=(X_val, y_val))\n",
    "history_2 = model_2.fit(X_train, y_train, epochs=10, validation_data=(X_val, y_val))"
   ]
  },
  {
   "cell_type": "code",
   "execution_count": null,
   "id": "622bacc7",
   "metadata": {},
   "outputs": [],
   "source": [
    "# Evaluación del Modelo 1\n",
    "test_loss_1, test_acc_1 = model_1.evaluate(X_test, y_test)\n",
    "print(f'Modelo 1 - Test accuracy: {test_acc_1}')\n",
    "\n",
    "# Evaluación del Modelo 2\n",
    "test_loss_2, test_acc_2 = model_2.evaluate(X_test, y_test)\n",
    "print(f'Modelo 2 - Test accuracy: {test_acc_2}')\n",
    "\n",
    "# Comparación de resultados\n",
    "plt.plot(history_1.history['val_accuracy'], label='Modelo 1')\n",
    "plt.plot(history_2.history['val_accuracy'], label='Modelo 2')\n",
    "plt.xlabel('Epoch')\n",
    "plt.ylabel('Validation Accuracy')\n",
    "plt.legend()\n",
    "plt.show()"
   ]
  },
  {
   "cell_type": "code",
   "execution_count": null,
   "id": "48a271d6",
   "metadata": {},
   "outputs": [],
   "source": [
    "from tensorflow.keras.models import Model\n",
    "\n",
    "# Seleccionar una imagen de prueba\n",
    "image_index = 0  # Cambia el índice para seleccionar diferentes imágenes\n",
    "test_image = X_test[image_index].reshape(1, 28, 28, 1)\n",
    "\n",
    "# Mostrar la imagen de prueba\n",
    "plt.imshow(X_test[image_index].reshape(28, 28), cmap='gray')\n",
    "plt.title(f\"Label: {y_test[image_index]}\")\n",
    "plt.show()\n",
    "\n",
    "# Crear un modelo que devuelva las salidas de las capas intermedias\n",
    "layer_outputs = [layer.output for layer in model_2.layers]\n",
    "activation_model = Model(inputs=model_2.input, outputs=layer_outputs)\n",
    "\n",
    "# Obtener las activaciones\n",
    "activations = activation_model.predict(test_image)\n",
    "\n",
    "# Función para visualizar los mapas de activación\n",
    "def display_activation(activations, col_size, row_size, layer_number): \n",
    "    activation = activations[layer_number]\n",
    "    activation_index = 0\n",
    "    fig, ax = plt.subplots(row_size, col_size, figsize=(15, 15))\n",
    "    for row in range(0, row_size):\n",
    "        for col in range(0, col_size):\n",
    "            ax[row][col].imshow(activation[0, :, :, activation_index], cmap='viridis')\n",
    "            activation_index += 1\n",
    "\n",
    "# Visualizar los mapas de activación de la primera capa convolucional\n",
    "layer_number = 1  # Índice de la capa que deseas visualizar (puedes cambiarlo)\n",
    "display_activation(activations, 6, 6, layer_number)"
   ]
  }
 ],
 "metadata": {
  "kernelspec": {
   "display_name": "Python 3 (ipykernel)",
   "language": "python",
   "name": "python3"
  },
  "language_info": {
   "codemirror_mode": {
    "name": "ipython",
    "version": 3
   },
   "file_extension": ".py",
   "mimetype": "text/x-python",
   "name": "python",
   "nbconvert_exporter": "python",
   "pygments_lexer": "ipython3",
   "version": "3.11.7"
  }
 },
 "nbformat": 4,
 "nbformat_minor": 5
}
